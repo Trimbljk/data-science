{
 "cells": [
  {
   "cell_type": "code",
   "execution_count": 313,
   "metadata": {},
   "outputs": [],
   "source": [
    "dna  = 'TGTGACTGATGTAGCGTAGCCCAAAGGTCGTAAAAAGGTCGCTCGTAGAAACTGAGATG'"
   ]
  },
  {
   "cell_type": "code",
   "execution_count": 315,
   "metadata": {},
   "outputs": [
    {
     "name": "stdout",
     "output_type": "stream",
     "text": [
      "18 10 18 13\n"
     ]
    }
   ],
   "source": [
    "def count_string(string):\n",
    "    \n",
    "    bases = {\n",
    "        'A':0,\n",
    "        'C':0,\n",
    "        'G':0,\n",
    "        'T':0\n",
    "    }\n",
    "    \n",
    "    for key in bases:\n",
    "        for base in string:\n",
    "            if base == key:\n",
    "                bases[key] += 1\n",
    "                \n",
    "    return print(bases['A'], bases['C'], bases['G'], bases['T'])        \n",
    "count_string(dna)  "
   ]
  },
  {
   "cell_type": "code",
   "execution_count": 200,
   "metadata": {},
   "outputs": [
    {
     "name": "stdin",
     "output_type": "stream",
     "text": [
      " TGTTTGTATATATTAGTAGTTGACCCCACATCCC\n"
     ]
    },
    {
     "name": "stdout",
     "output_type": "stream",
     "text": [
      "8 8 5 13\n"
     ]
    }
   ],
   "source": [
    "print(*map(input().count, \"ACGT\"))"
   ]
  },
  {
   "cell_type": "code",
   "execution_count": 73,
   "metadata": {},
   "outputs": [],
   "source": [
    "def rna_con(string):\n",
    "    \n",
    "    newstring = string.replace('T', 'U')\n",
    "    \n",
    "    return(newstring)    "
   ]
  },
  {
   "cell_type": "code",
   "execution_count": 317,
   "metadata": {},
   "outputs": [
    {
     "name": "stdout",
     "output_type": "stream",
     "text": [
      "CGGTTCTAGGGATGTGTCCTGCTTGATGCCTTTTGATATGGAACATGGCCACCGAAGCGCGTCAACCGTGCGTTTACGGCGTGTCCATCGCAAGTTAGGGACGCCGGTATGGTTAAGTTCACACACTGGCCCTCAACTCAGAGGTTTCGAATGCGCCCGAGGATCCAAACTGAGCTATAACTGAGACATCGCGGTTTACCGTATATTGCAGGCGCGGATACCAGCAAGCATCCCCGAAGCCGCTAATGGACATTCCTACCATGGCCACGTCGCCGACGTGAGGTCATGTAGTCCCGCCCCAGCCTAAACGCACGCTCAATTATAATAAAGCAACGCTATCTAGCAGGTGAAGTTAGGTAGAATTAACTCGAAATTGGACTATTAGATTCCATAAGCCCATTGGATGGGCGCGGACCATAAGGCACCCGAAGCCGTCGATCCTCAGTTATAATGCGTGCGCAACGAATTATCTTGGGACTCGGAGTCAAGTATATGCATAATGTCACAGAATAGGGGCCACGAACTTTATCCTCGTCGACTGGTGACTACATGCGTGCCTAAGCTGTCGAATTCCCTAGGGCCCGCCGACTGACTTTACCGAAGCAGAATACCTAAGCCGCTGTCGGGGTGTGGCTTGAGCCGGCGCAGACAAACGTCCAGTAATTCCACACATTAGACTTGTAAACAATCCATCCCGAGGCATCAAGGTCCCAGCGTAATTCACAAAGCCCGCTAGGATGACGAATAGTGACCTTTGAACGAATATCGAACCGGGTGCATCAGCAACAATGGGTGCGCAAGCGACCCCAGGATGGGAATAGTCTAAACCCTTGTCGCCGAACCCA\n"
     ]
    }
   ],
   "source": [
    "def rev_comp(string):\n",
    "    \n",
    "    comp = {\n",
    "        'A':'T',\n",
    "        'C':'G',\n",
    "        'G':'C',\n",
    "        'T':'A'\n",
    "    }\n",
    "    \n",
    "    test = []\n",
    "    \n",
    "    for base in string:\n",
    "        for key, value in comp.items():\n",
    "            if base == key:\n",
    "                test.append(value)\n",
    "    rev = ''.join(test)\n",
    "    \n",
    "    return(print(rev[::-1]))\n",
    "\n",
    "rev_comp(g)\n",
    "    "
   ]
  },
  {
   "cell_type": "code",
   "execution_count": 128,
   "metadata": {},
   "outputs": [],
   "source": [
    "dna ={'rosa':'GGGCCCTTTTGAGCGCTTTTTGGGGTT',\n",
    "      'blah': 'GCTTGGGGGGGGGGG'}"
   ]
  },
  {
   "cell_type": "code",
   "execution_count": 156,
   "metadata": {},
   "outputs": [],
   "source": [
    "def get_gc(diction):\n",
    "    \n",
    "    GC = ['G', 'C']\n",
    "    fn = {}\n",
    "    for key, value in diction.items():\n",
    "        GCcount = 0\n",
    "        for i in value:\n",
    "            if i in GC:\n",
    "                GCcount += 1\n",
    "        GCcontent = (GCcount/len(value))*100\n",
    "        rounded = round(GCcontent, 6)\n",
    "        fn.update({key: rounded})\n",
    "    Keymax = max(fn.items(), key=lambda x : x[1])\n",
    "    return(Keymax)"
   ]
  },
  {
   "cell_type": "code",
   "execution_count": 157,
   "metadata": {},
   "outputs": [
    {
     "name": "stdout",
     "output_type": "stream",
     "text": [
      "Rosalind_0790\n",
      "52.805281\n"
     ]
    }
   ],
   "source": [
    "with open('data/rosalind_gc.txt', 'r') as dna:\n",
    "    \n",
    "    string = '>R'\n",
    "    fn = []\n",
    "    nums = []\n",
    "    code = []\n",
    "    cnms = []\n",
    "    \n",
    "    for num,line in enumerate(dna):\n",
    "        if string in line:\n",
    "            test = line.strip().strip('>')\n",
    "            fn.append(test)\n",
    "            nums.append(num)\n",
    "        else:\n",
    "            if num-1 not in cnms:\n",
    "                r = line.strip()\n",
    "                code.append(r)\n",
    "                cnms.append(num)\n",
    "            else:\n",
    "                g = line.strip()\n",
    "                code.append(g)\n",
    "                r = ''.join(code[-2:])\n",
    "                code = code[:len(code)-2]\n",
    "                code.append(r)\n",
    "                cnms.append(num)\n",
    "                  \n",
    "    fildict = {fn[i]: code[i] for i in range(len(fn))}\n",
    "    for item in get_gc(fildict):\n",
    "        print(item)"
   ]
  },
  {
   "cell_type": "code",
   "execution_count": 41,
   "metadata": {},
   "outputs": [],
   "source": [
    "def hamming(s_one, s_two):\n",
    "    \n",
    "    count = 0\n",
    "    for i, j in enumerate(done):\n",
    "        if j != dtwo[i]:\n",
    "            count+=1\n",
    "    return(count)\n"
   ]
  },
  {
   "cell_type": "code",
   "execution_count": 42,
   "metadata": {},
   "outputs": [
    {
     "data": {
      "text/plain": [
       "454"
      ]
     },
     "execution_count": 42,
     "metadata": {},
     "output_type": "execute_result"
    }
   ],
   "source": [
    "hamming(done, dtwo)"
   ]
  },
  {
   "cell_type": "code",
   "execution_count": 59,
   "metadata": {},
   "outputs": [
    {
     "data": {
      "text/plain": [
       "range(0, 7)"
      ]
     },
     "execution_count": 59,
     "metadata": {},
     "output_type": "execute_result"
    }
   ],
   "source": [
    "range(len(test))"
   ]
  },
  {
   "cell_type": "code",
   "execution_count": 22,
   "metadata": {},
   "outputs": [
    {
     "ename": "IndentationError",
     "evalue": "expected an indented block (<ipython-input-22-67db5eeec681>, line 11)",
     "output_type": "error",
     "traceback": [
      "\u001b[0;36m  File \u001b[0;32m\"<ipython-input-22-67db5eeec681>\"\u001b[0;36m, line \u001b[0;32m11\u001b[0m\n\u001b[0;31m    return(gene)\u001b[0m\n\u001b[0m    ^\u001b[0m\n\u001b[0;31mIndentationError\u001b[0m\u001b[0;31m:\u001b[0m expected an indented block\n"
     ]
    }
   ],
   "source": [
    "def motif(string, sub):\n",
    "    \n",
    "    k=len(sub)\n",
    "    \n",
    "    \n",
    "    for i range(len(string) - len(sub) + 1):\n",
    "        print\n",
    "    \n",
    "    \n",
    "    \n",
    "#     for i, j in enumerate(gene[:k]):\n",
    "#         print(j)\n",
    "    return(gene)\n",
    "        "
   ]
  },
  {
   "cell_type": "code",
   "execution_count": 9,
   "metadata": {},
   "outputs": [
    {
     "data": {
      "text/plain": [
       "'GATATATGCATATACTT'"
      ]
     },
     "execution_count": 9,
     "metadata": {},
     "output_type": "execute_result"
    }
   ],
   "source": [
    "motif(gene, motif)"
   ]
  },
  {
   "cell_type": "code",
   "execution_count": 1,
   "metadata": {},
   "outputs": [],
   "source": [
    "gene = 'ATGAAGCATTGAAATACAAGCATTGAGCATTGGCTACGAGCATTGAGCATTGAGCATTGCAAGCATTGACTTGCGGAGCATTGTCGAGCATTGAGTAGCATTGTAAATTAGCATTGAAGAGCATTGTTGACCCCGAGCATTGTAGCATTGAAGCATTGAGCATTGGAGCATTGTTAGCATTGTCCCCCAACAAGCATTGCAGCATTGGTTAAAGCATTGGAGCATTGTAAGCATTGAAGCATTGTAGCATTGCAGCATTGGAGCATTGTTAAGCATTGCAGCATTGCGCAAGCATTGACAGCATTGACAAGCATTGAGCATTGTGAGCATTGCTCGGAGCATTGGTGGAAAAACACGAGCATTGAGCATTGCCGTAGCATTGCAGCATTGAGCATTGAAGCATTGAGCGCCAGCATTGTTGCGAGCATTGGGAAGCATTGAGCATTGAGCATTGCTCTTTACCGCTGCAGCATTGTGCACAGGAGCATTGTAGCATTGACCAAAGCATTGAGCATTGGTAGCATTGAGCATTGGAGCATTGACGAGCATTGTAGCAGCATTGAGCATTGCAGCATTGTCTTTGAGCATTGGTAGCATTGGTCGTAGCATTGTCACGGCTATAACAAGCATTGTCAGCATTGCTGAAGCATTGCAACGTAGCATTGGAAGCATTGTCGTGCATCAGCATTGTTAGCATTGAGCATTGAGCATTGAGCATTGACCAGCATTGCCGAAGCATTGAGCATTGTCCTAGCATTGCCTAAAAGCATTGGAGCATTGTGTAAGCATTGAGAAGCATTGTAGCATTGGTTTCAGGAAGCATTG'\n",
    "motif ='AGCATTGAG'"
   ]
  },
  {
   "cell_type": "code",
   "execution_count": 2,
   "metadata": {},
   "outputs": [],
   "source": [
    "for i in range(len(gene) - len(motif) + 1):\n",
    "        if motif == gene[i:len(motif)]:\n",
    "            print(i) \n",
    "            "
   ]
  },
  {
   "cell_type": "code",
   "execution_count": 4,
   "metadata": {},
   "outputs": [
    {
     "data": {
      "text/plain": [
       "'TGA'"
      ]
     },
     "execution_count": 4,
     "metadata": {},
     "output_type": "execute_result"
    }
   ],
   "source": [
    "gene[1:4]"
   ]
  },
  {
   "cell_type": "code",
   "execution_count": 57,
   "metadata": {},
   "outputs": [
    {
     "ename": "TypeError",
     "evalue": "'int' object is not iterable",
     "output_type": "error",
     "traceback": [
      "\u001b[0;31m---------------------------------------------------------------------------\u001b[0m",
      "\u001b[0;31mTypeError\u001b[0m                                 Traceback (most recent call last)",
      "\u001b[0;32m<ipython-input-57-c4b2726c9af1>\u001b[0m in \u001b[0;36m<module>\u001b[0;34m\u001b[0m\n\u001b[1;32m      2\u001b[0m \u001b[0mtest\u001b[0m \u001b[0;34m=\u001b[0m \u001b[0;34m'ATGGTCT'\u001b[0m\u001b[0;34m\u001b[0m\u001b[0m\n\u001b[1;32m      3\u001b[0m \u001b[0mn\u001b[0m \u001b[0;34m=\u001b[0m \u001b[0mlen\u001b[0m\u001b[0;34m(\u001b[0m\u001b[0mmotif\u001b[0m\u001b[0;34m)\u001b[0m\u001b[0;34m\u001b[0m\u001b[0m\n\u001b[0;32m----> 4\u001b[0;31m \u001b[0;32mfor\u001b[0m \u001b[0mi\u001b[0m\u001b[0;34m,\u001b[0m \u001b[0mj\u001b[0m \u001b[0;32min\u001b[0m \u001b[0mrange\u001b[0m\u001b[0;34m(\u001b[0m\u001b[0mlen\u001b[0m\u001b[0;34m(\u001b[0m\u001b[0mtest\u001b[0m\u001b[0;34m)\u001b[0m\u001b[0;34m+\u001b[0m\u001b[0;36m1\u001b[0m\u001b[0;34m)\u001b[0m\u001b[0;34m:\u001b[0m\u001b[0;34m\u001b[0m\u001b[0m\n\u001b[0m\u001b[1;32m      5\u001b[0m     \u001b[0mprint\u001b[0m\u001b[0;34m(\u001b[0m\u001b[0mi\u001b[0m\u001b[0;34m)\u001b[0m\u001b[0;34m\u001b[0m\u001b[0m\n",
      "\u001b[0;31mTypeError\u001b[0m: 'int' object is not iterable"
     ]
    }
   ],
   "source": [
    "motif = 'ATG'\n",
    "test = 'ATGGTCT'\n",
    "n = len(motif)\n",
    "for i in range(len(test)+1):\n",
    "    print(i)"
   ]
  },
  {
   "cell_type": "code",
   "execution_count": 43,
   "metadata": {},
   "outputs": [],
   "source": [
    "import pandas as pd\n",
    "df = pd.DataFrame({'Animal': ['Falcon', 'Falcon',\n",
    "                              'Parrot', 'Parrot'],\n",
    "                   'Max Speed': [380., 370., 24., 26.]})"
   ]
  },
  {
   "cell_type": "code",
   "execution_count": 53,
   "metadata": {},
   "outputs": [
    {
     "ename": "AttributeError",
     "evalue": "'DataFrameGroupBy' object has no attribute 'unique'",
     "output_type": "error",
     "traceback": [
      "\u001b[0;31m---------------------------------------------------------------------------\u001b[0m",
      "\u001b[0;31mAttributeError\u001b[0m                            Traceback (most recent call last)",
      "\u001b[0;32m<ipython-input-53-4f4f5e15c373>\u001b[0m in \u001b[0;36m<module>\u001b[0;34m\u001b[0m\n\u001b[0;32m----> 1\u001b[0;31m \u001b[0mdf\u001b[0m\u001b[0;34m.\u001b[0m\u001b[0mgroupby\u001b[0m\u001b[0;34m(\u001b[0m\u001b[0;34m'Animal'\u001b[0m\u001b[0;34m)\u001b[0m\u001b[0;34m.\u001b[0m\u001b[0munique\u001b[0m\u001b[0;34m(\u001b[0m\u001b[0;34m)\u001b[0m\u001b[0;34m\u001b[0m\u001b[0m\n\u001b[0m",
      "\u001b[0;32m/opt/conda/lib/python3.6/site-packages/pandas/core/groupby/groupby.py\u001b[0m in \u001b[0;36m__getattr__\u001b[0;34m(self, attr)\u001b[0m\n\u001b[1;32m    763\u001b[0m \u001b[0;34m\u001b[0m\u001b[0m\n\u001b[1;32m    764\u001b[0m         raise AttributeError(\"%r object has no attribute %r\" %\n\u001b[0;32m--> 765\u001b[0;31m                              (type(self).__name__, attr))\n\u001b[0m\u001b[1;32m    766\u001b[0m \u001b[0;34m\u001b[0m\u001b[0m\n\u001b[1;32m    767\u001b[0m     @Substitution(klass='GroupBy',\n",
      "\u001b[0;31mAttributeError\u001b[0m: 'DataFrameGroupBy' object has no attribute 'unique'"
     ]
    }
   ],
   "source": []
  },
  {
   "cell_type": "code",
   "execution_count": null,
   "metadata": {},
   "outputs": [],
   "source": []
  }
 ],
 "metadata": {
  "kernelspec": {
   "display_name": "Python 3",
   "language": "python",
   "name": "python3"
  },
  "language_info": {
   "codemirror_mode": {
    "name": "ipython",
    "version": 3
   },
   "file_extension": ".py",
   "mimetype": "text/x-python",
   "name": "python",
   "nbconvert_exporter": "python",
   "pygments_lexer": "ipython3",
   "version": "3.6.6"
  }
 },
 "nbformat": 4,
 "nbformat_minor": 2
}
