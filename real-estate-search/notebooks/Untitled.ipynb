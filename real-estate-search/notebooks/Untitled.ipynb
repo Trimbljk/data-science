{
 "cells": [
  {
   "cell_type": "code",
   "execution_count": 15,
   "metadata": {},
   "outputs": [],
   "source": [
    "import bs4\n",
    "import requests"
   ]
  },
  {
   "cell_type": "code",
   "execution_count": 17,
   "metadata": {},
   "outputs": [],
   "source": [
    "r = requests.get(\"https://docs.docker.com/engine/reference/run/\")\n",
    "wp = r.text"
   ]
  },
  {
   "cell_type": "code",
   "execution_count": 18,
   "metadata": {},
   "outputs": [],
   "source": [
    "soup = bs4.BeautifulSoup(wp, \"html.parser\")"
   ]
  },
  {
   "cell_type": "code",
   "execution_count": 21,
   "metadata": {},
   "outputs": [
    {
     "data": {
      "text/plain": [
       "<head>\n",
       "<meta content=\"text/html; charset=utf-8\" http-equiv=\"Content-Type\"/><!-- Google Tag Manager -->\n",
       "<script>(function(w,d,s,l,i){w[l]=w[l]||[];w[l].push({'gtm.start':\n",
       "  new Date().getTime(),event:'gtm.js'});var f=d.getElementsByTagName(s)[0],\n",
       "  j=d.createElement(s),dl=l!='dataLayer'?'&l='+l:'';j.async=true;j.src=\n",
       "  'https://www.googletagmanager.com/gtm.js?id='+i+dl;f.parentNode.insertBefore(j,f);\n",
       "  })(window,document,'script','dataLayer','GTM-WL2QLG5');</script>\n",
       "<title>Docker run reference | Docker Documentation</title>\n",
       "<meta content=\"Configure containers at runtime\" name=\"description\">\n",
       "<meta content=\"docker, run, configure, runtime\" name=\"keywords\"/>\n",
       "<link href=\"/engine/reference/run/\" rel=\"canonical\"/>\n",
       "<!-- favicon -->\n",
       "<link href=\"/favicons/docs@2x.ico\" rel=\"icon\" sizes=\"129x128\" type=\"image/x-icon\"/>\n",
       "<link href=\"/favicons/docs@2x.ico\" rel=\"apple-touch-icon\" sizes=\"129x128\" type=\"image/x-icon\"/>\n",
       "<meta content=\"/favicons/docs@2x.ico\" name=\"msapplication-TileImage\"/>\n",
       "<meta content=\"/favicons/docs@2x.ico\" property=\"og:image\">\n",
       "<!-- metadata -->\n",
       "<meta content=\"width=device-width, initial-scale=1.0\" name=\"viewport\"/>\n",
       "<link href=\"/css/font-awesome.min.css\" rel=\"stylesheet\"/>\n",
       "<link href=\"/css/bootstrap.min.css\" rel=\"stylesheet\"/>\n",
       "<link href=\"/css/pygments/perldoc.css\" id=\"pygments\" rel=\"stylesheet\"/>\n",
       "<link href=\"/css/style.css\" id=\"pagestyle\" rel=\"stylesheet\"/>\n",
       "<link href=\"https://fonts.googleapis.com/css?family=Open+Sans\" rel=\"stylesheet\"/>\n",
       "<!-- SEO stuff -->\n",
       "<meta content=\"Docker run reference\" itemprop=\"title name\" name=\"twitter:title\">\n",
       "<meta content=\"\" itemprop=\"description\" name=\"twitter:description\" property=\"og:description\">\n",
       "<meta content=\"summary\" name=\"twitter:card\"/>\n",
       "<meta content=\"docs.docker.com\" name=\"twitter:domain\"/>\n",
       "<meta content=\"@docker_docs\" name=\"twitter:site\"/>\n",
       "<meta content=\"https://twitter.com/docker_docs\" name=\"twitter:url\"/>\n",
       "<meta content=\"/images/docs@2x.png\" name=\"twitter:image:src\"/>\n",
       "<meta content=\"Docker Documentation\" name=\"twitter:image:alt\"/>\n",
       "<meta content=\"Docker run reference\" property=\"og:title\"/>\n",
       "<meta content=\"Configure containers at runtime\" property=\"og:description\"/>\n",
       "<meta content=\"website\" property=\"og:type\"/>\n",
       "<meta content=\"2020-10-08T14:36:15+00:00\" itemprop=\"dateUpdated\" property=\"og:updated_time\"/>\n",
       "<meta content=\"/images/docs@2x.png\" itemprop=\"image primaryImageOfPage\" property=\"og:image\"/>\n",
       "<meta content=\"en_US\" property=\"og:locale\"/>\n",
       "<meta content=\"https://docs.docker.com/engine/reference/run/\" property=\"og:url\"/>\n",
       "<meta content=\"Docker Documentation\" property=\"og:site_name\"/>\n",
       "<meta content=\"2020-10-08T14:36:15+00:00\" itemprop=\"datePublished\" property=\"article:published_time\"/>\n",
       "<script type=\"application/ld+json\">{\"@context\":\"http://schema.org\",\"@type\":\"WebPage\",\"headline\":\"Docker run reference\",\"description\":\"Configure containers at runtime\",\"url\":\"https://docs.docker.com/engine/reference/run/\"}</script>\n",
       "<!-- END SEO STUFF -->\n",
       "</meta></meta></meta></meta></head>"
      ]
     },
     "execution_count": 21,
     "metadata": {},
     "output_type": "execute_result"
    }
   ],
   "source": [
    "soup.head"
   ]
  },
  {
   "cell_type": "code",
   "execution_count": null,
   "metadata": {},
   "outputs": [],
   "source": []
  }
 ],
 "metadata": {
  "kernelspec": {
   "display_name": "Python 3",
   "language": "python",
   "name": "python3"
  },
  "language_info": {
   "codemirror_mode": {
    "name": "ipython",
    "version": 3
   },
   "file_extension": ".py",
   "mimetype": "text/x-python",
   "name": "python",
   "nbconvert_exporter": "python",
   "pygments_lexer": "ipython3",
   "version": "3.6.6"
  }
 },
 "nbformat": 4,
 "nbformat_minor": 2
}
