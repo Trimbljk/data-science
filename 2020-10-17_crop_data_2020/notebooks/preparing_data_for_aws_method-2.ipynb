{
 "cells": [
  {
   "cell_type": "code",
   "execution_count": 6,
   "metadata": {},
   "outputs": [],
   "source": [
    "import requests\n",
    "import os\n",
    "import pandas as pd\n",
    "import io\n",
    "import time\n",
    "import json\n",
    "import copy\n",
    "import boto3.session\n",
    "key = os.environ.get(\"USDAKEY\")\n",
    "bucket = os.environ.get(\"CROP_BUCKET\")\n",
    "profile = os.environ.get(\"AWS_LP\")"
   ]
  },
  {
   "cell_type": "code",
   "execution_count": 7,
   "metadata": {},
   "outputs": [],
   "source": [
    "s3 = (\n",
    "    boto3.session.Session(profile_name=profile)\n",
    "    .resource('s3')\n",
    ")"
   ]
  },
  {
   "cell_type": "code",
   "execution_count": 10,
   "metadata": {},
   "outputs": [],
   "source": [
    "states = [\n",
    "    'AL', 'AK', 'AZ', 'AR', 'CA', 'CO',\n",
    "    'CT', 'DE', 'FL', 'GA', 'HI', 'ID',\n",
    "    'IL', 'IN', 'IA', 'KS', 'KY', 'LA', \n",
    "    'ME', 'MD', 'MA', 'MI', 'MN', 'MS', \n",
    "    'MO', 'MT', 'NV', 'NE', 'NH', 'NJ', \n",
    "    'NM', 'NY', 'NC', 'ND', 'OH', 'OK',\n",
    "    'OR', 'PA', 'RI', 'SC', 'SD', 'TN',\n",
    "    'TX', 'UT', 'VT', 'VA', 'WA', 'WV',\n",
    "    'WI', 'WY'\n",
    "]"
   ]
  },
  {
   "cell_type": "code",
   "execution_count": 11,
   "metadata": {},
   "outputs": [],
   "source": [
    "def state_info(state):\n",
    "    \n",
    "    state_info = []\n",
    "    \n",
    "    for st in states:\n",
    "        s = (\n",
    "            requests.get(\n",
    "            f'''http://quickstats.nass.usda.gov/api/api_GET/?key={key}&\n",
    "            group_desc=INCOME&commodity_desc=COMMODITY+TOTALS&\n",
    "            statisticcat_desc=SALES&unit_desc=$&state_alpha={st}&format=json''')\n",
    "            .json()\n",
    "        )\n",
    "        state_info.append(s)\n",
    "        time.sleep(3)\n",
    "    \n",
    "    return(state_info)"
   ]
  },
  {
   "cell_type": "code",
   "execution_count": 12,
   "metadata": {},
   "outputs": [],
   "source": [
    "si = state_info(states)"
   ]
  },
  {
   "cell_type": "code",
   "execution_count": 13,
   "metadata": {},
   "outputs": [],
   "source": [
    "def get_nested_data(init_list):\n",
    "    \n",
    "    select_data = []\n",
    "    \n",
    "    for state_info in init_list:\n",
    "        i = state_info['data']\n",
    "        select_data.append(i)\n",
    "    \n",
    "    return(select_data)\n",
    "\n",
    "def change_column(nested_list):\n",
    "    \n",
    "    sd = copy.deepcopy(nested_list)\n",
    "    \n",
    "    final_ls = []\n",
    "    \n",
    "    for item in sd:\n",
    "        for i in item:\n",
    "            i['cv_per'] = i.pop(\"CV (%)\")\n",
    "        final_ls.append(item)\n",
    "    \n",
    "    return(final_ls)"
   ]
  },
  {
   "cell_type": "code",
   "execution_count": 14,
   "metadata": {},
   "outputs": [],
   "source": [
    "gnd = get_nested_data(si)"
   ]
  },
  {
   "cell_type": "code",
   "execution_count": 15,
   "metadata": {},
   "outputs": [],
   "source": [
    "cc = change_column(get_nested_data(si))"
   ]
  },
  {
   "cell_type": "code",
   "execution_count": 16,
   "metadata": {},
   "outputs": [],
   "source": [
    "def write_files(ls):\n",
    "        \n",
    "    for i, j in enumerate(ls):\n",
    "        with open(f'../data/state_{i}.jsonl', 'w') as filehandle:\n",
    "            [filehandle.write('%s\\n' % item) for item in j]"
   ]
  },
  {
   "cell_type": "code",
   "execution_count": 17,
   "metadata": {},
   "outputs": [],
   "source": [
    "write_files(cc)"
   ]
  },
  {
   "cell_type": "code",
   "execution_count": 18,
   "metadata": {},
   "outputs": [],
   "source": [
    "%%bash\n",
    "for i in ../data/*.jsonl; do\n",
    "     sed -i \"s/'/\\\"/g\" $i\n",
    "done"
   ]
  },
  {
   "cell_type": "code",
   "execution_count": 19,
   "metadata": {},
   "outputs": [],
   "source": [
    "def get_files():\n",
    "    \n",
    "    path = '../data'\n",
    "    fl = []\n",
    "    files = os.listdir(path)\n",
    "    [fl.append(f) for f in files if 'state' in f]\n",
    "    \n",
    "    return(fl)\n"
   ]
  },
  {
   "cell_type": "code",
   "execution_count": 20,
   "metadata": {},
   "outputs": [],
   "source": [
    "gf = get_files()"
   ]
  },
  {
   "cell_type": "code",
   "execution_count": 21,
   "metadata": {},
   "outputs": [],
   "source": [
    "def write_to_s3(ls):\n",
    "    \n",
    "    for file in ls:\n",
    "        s3.Object(bucket, f'crop-data/{file}').upload_file(f'../data/{file}')"
   ]
  },
  {
   "cell_type": "code",
   "execution_count": 22,
   "metadata": {},
   "outputs": [],
   "source": [
    "write_to_s3(gf)"
   ]
  }
 ],
 "metadata": {
  "kernelspec": {
   "display_name": "Python 3",
   "language": "python",
   "name": "python3"
  },
  "language_info": {
   "codemirror_mode": {
    "name": "ipython",
    "version": 3
   },
   "file_extension": ".py",
   "mimetype": "text/x-python",
   "name": "python",
   "nbconvert_exporter": "python",
   "pygments_lexer": "ipython3",
   "version": "3.7.3"
  }
 },
 "nbformat": 4,
 "nbformat_minor": 4
}
