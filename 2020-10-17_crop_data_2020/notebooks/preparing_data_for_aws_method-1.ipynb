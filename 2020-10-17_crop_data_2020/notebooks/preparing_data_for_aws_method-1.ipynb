{
 "cells": [
  {
   "cell_type": "markdown",
   "metadata": {},
   "source": [
    "### Requesting Data from the USDA's NASS API\n",
    "\n",
    "This is part 3 of a series of blogs posts on working with data from the USDA NASS database. It follows the second article <a href=\"\" class=\"inlinelink\"> insert info here</a>. In this post, we'll be using <a href=\"\" class=\"inlinelink\">JupyterLab</a> to request data from the NASS database using their API. Since we've already established our <a href=\"\" class=\"inlinelink\">credentials</a> and set up our infrastructure, we're ready to retrieve data and send it to AWS for storage. "
   ]
  },
  {
   "cell_type": "markdown",
   "metadata": {},
   "source": [
    "Before we can start requesting data, we need to import a number of modules that will helps us get make the requests and format the retreived information. Explaining each module is beyond the scope of this article but I'll point out that _boto3_ and _requests_ are two of the most important. _Requests_ helps us create http requests using Python and _boto3_ is AWS' Python software development kit. At the bottom of the next cell are variables imported from the container. These variables will allow us to upload our data to S3 later."
   ]
  },
  {
   "cell_type": "code",
   "execution_count": 3,
   "metadata": {},
   "outputs": [],
   "source": [
    "import ndjson\n",
    "import requests\n",
    "import random\n",
    "import os\n",
    "import pandas as pd\n",
    "import time\n",
    "import json\n",
    "import copy\n",
    "import boto3.session\n",
    "key = os.environ.get(\"USDAKEY\")\n",
    "bucket = os.environ.get(\"CROP_BUCKET\")\n",
    "profile = os.environ.get(\"AWS_LP\")"
   ]
  },
  {
   "cell_type": "markdown",
   "metadata": {},
   "source": [
    "Now that we have the modules and variables set, we can make a test GET request to USDA NASS database. I'm retrieving information about North Carolina."
   ]
  },
  {
   "cell_type": "code",
   "execution_count": 4,
   "metadata": {},
   "outputs": [],
   "source": [
    "nc = requests.get(\n",
    "            f'''http://quickstats.nass.usda.gov/api/api_GET/?key={key}&\n",
    "            group_desc=INCOME&commodity_desc=COMMODITY+TOTALS&\n",
    "            statisticcat_desc=SALES&unit_desc=$&state_alpha=NC&format=json''').json()['data']"
   ]
  },
  {
   "cell_type": "markdown",
   "metadata": {},
   "source": [
    "This request retrieved 9627 records."
   ]
  },
  {
   "cell_type": "code",
   "execution_count": 5,
   "metadata": {},
   "outputs": [
    {
     "data": {
      "text/plain": [
       "9627"
      ]
     },
     "execution_count": 5,
     "metadata": {},
     "output_type": "execute_result"
    }
   ],
   "source": [
    "len(nc)"
   ]
  },
  {
   "cell_type": "markdown",
   "metadata": {},
   "source": [
    "By selecting the first record in this list, we can visualize and example of the data be received."
   ]
  },
  {
   "cell_type": "code",
   "execution_count": 9,
   "metadata": {},
   "outputs": [
    {
     "data": {
      "text/plain": [
       "{'asd_code': '',\n",
       " 'source_desc': 'CENSUS',\n",
       " 'freq_desc': 'ANNUAL',\n",
       " 'county_name': '',\n",
       " 'zip_5': '',\n",
       " 'asd_desc': '',\n",
       " 'unit_desc': '$',\n",
       " 'CV (%)': '4.3',\n",
       " 'region_desc': '',\n",
       " 'commodity_desc': 'COMMODITY TOTALS',\n",
       " 'state_alpha': 'NC',\n",
       " 'begin_code': '00',\n",
       " 'country_code': '9000',\n",
       " 'congr_district_code': '',\n",
       " 'reference_period_desc': 'YEAR',\n",
       " 'load_time': '2012-12-31 00:00:00',\n",
       " 'watershed_code': '00000000',\n",
       " 'country_name': 'UNITED STATES',\n",
       " 'end_code': '00',\n",
       " 'domaincat_desc': 'OPERATORS: (1 OPERATORS)',\n",
       " 'agg_level_desc': 'STATE',\n",
       " 'county_ansi': '',\n",
       " 'county_code': '',\n",
       " 'class_desc': 'ALL CLASSES',\n",
       " 'year': 2012,\n",
       " 'watershed_desc': '',\n",
       " 'domain_desc': 'OPERATORS',\n",
       " 'util_practice_desc': 'ALL UTILIZATION PRACTICES',\n",
       " 'week_ending': '',\n",
       " 'Value': '6,612,983,000',\n",
       " 'prodn_practice_desc': 'ALL PRODUCTION PRACTICES',\n",
       " 'location_desc': 'NORTH CAROLINA',\n",
       " 'state_ansi': '37',\n",
       " 'short_desc': 'COMMODITY TOTALS - SALES, MEASURED IN $',\n",
       " 'statisticcat_desc': 'SALES',\n",
       " 'group_desc': 'INCOME',\n",
       " 'state_name': 'NORTH CAROLINA',\n",
       " 'sector_desc': 'DEMOGRAPHICS',\n",
       " 'state_fips_code': '37'}"
      ]
     },
     "execution_count": 9,
     "metadata": {},
     "output_type": "execute_result"
    }
   ],
   "source": [
    "nc[0]"
   ]
  },
  {
   "cell_type": "code",
   "execution_count": 10,
   "metadata": {},
   "outputs": [],
   "source": [
    "with open('test-state.jsonl','w') as f:\n",
    "    ndjson.dump(nc, f)"
   ]
  },
  {
   "cell_type": "code",
   "execution_count": 77,
   "metadata": {},
   "outputs": [],
   "source": [
    "states = ['AL', 'NC']\n",
    "#     'AL', 'AK', 'AZ', 'AR', 'CA', 'CO',\n",
    "#     'CT', 'DE', 'FL', 'GA', 'HI', 'ID',\n",
    "#     'IL', 'IN', 'IA', 'KS', 'KY', 'LA', \n",
    "#     'ME', 'MD', 'MA', 'MI', 'MN', 'MS', \n",
    "#     'MO', 'MT', 'NV', 'NE', 'NH', 'NJ', \n",
    "#     'NM', 'NY', 'NC', 'ND', 'OH', 'OK',\n",
    "#     'OR', 'PA', 'RI', 'SC', 'SD', 'TN',\n",
    "#     'TX', 'UT', 'VT', 'VA', 'WA', 'WV',\n",
    "#     'WI', 'WY'\n",
    "# ]"
   ]
  },
  {
   "cell_type": "code",
   "execution_count": 109,
   "metadata": {},
   "outputs": [],
   "source": [
    "def state_info(state):\n",
    "    \n",
    "    state_info = {}\n",
    "    \n",
    "    for st in state:\n",
    "        s = (\n",
    "            requests.get(\n",
    "            f'''http://quickstats.nass.usda.gov/api/api_GET/?key={key}&\n",
    "            group_desc=INCOME&commodity_desc=COMMODITY+TOTALS&\n",
    "            statisticcat_desc=SALES&unit_desc=$&state_alpha={st}&format=json''')\n",
    "            .json()['data']\n",
    "        )\n",
    "        state_info[st] = s\n",
    "        time.sleep(random.randint(2, 15))\n",
    "        \n",
    "    \n",
    "    return(state_info)"
   ]
  },
  {
   "cell_type": "code",
   "execution_count": 110,
   "metadata": {},
   "outputs": [],
   "source": [
    "si = state_info(states)"
   ]
  },
  {
   "cell_type": "code",
   "execution_count": 111,
   "metadata": {},
   "outputs": [],
   "source": [
    "def test(d):\n",
    "    \n",
    "    ss = copy.deepcopy(d)\n",
    "    \n",
    "    for x in ss.values():\n",
    "        for i in x[0:2]:\n",
    "            i['cv_per'] = i.pop(\"CV (%)\")\n",
    "    \n",
    "    return()"
   ]
  },
  {
   "cell_type": "code",
   "execution_count": 13,
   "metadata": {},
   "outputs": [],
   "source": [
    "def change_column(nested_list):\n",
    "    \n",
    "    sd = copy.deepcopy(nested_list)\n",
    "    \n",
    "    final_ls = []\n",
    "    \n",
    "    for item in sd:\n",
    "        for i in item:\n",
    "            i['cv_per'] = i.pop(\"CV (%)\")\n",
    "        final_ls.append(item)\n",
    "    \n",
    "    return(final_ls)"
   ]
  },
  {
   "cell_type": "code",
   "execution_count": 15,
   "metadata": {},
   "outputs": [],
   "source": [
    "cc = change_column(si)"
   ]
  },
  {
   "cell_type": "code",
   "execution_count": 16,
   "metadata": {},
   "outputs": [],
   "source": [
    "def write_files(ls):\n",
    "        \n",
    "    for i, j in enumerate(ls):\n",
    "        with open(f'../data/state_{i}.jsonl', 'w') as filehandle:\n",
    "            [filehandle.write('%s\\n' % item) for item in j]"
   ]
  },
  {
   "cell_type": "code",
   "execution_count": 17,
   "metadata": {},
   "outputs": [],
   "source": [
    "write_files(cc)"
   ]
  },
  {
   "cell_type": "code",
   "execution_count": 69,
   "metadata": {},
   "outputs": [],
   "source": [
    "s3 = (\n",
    "    boto3.session.Session(profile_name=profile)\n",
    "    .resource('s3')\n",
    ")"
   ]
  },
  {
   "cell_type": "code",
   "execution_count": 21,
   "metadata": {},
   "outputs": [],
   "source": [
    "def write_to_s3(ls):\n",
    "    \n",
    "    for file in ls:\n",
    "        s3.Object(bucket, f'crop-data/{file}').upload_file(f'../data/{file}')"
   ]
  },
  {
   "cell_type": "code",
   "execution_count": 22,
   "metadata": {},
   "outputs": [],
   "source": [
    "write_to_s3(gf)"
   ]
  }
 ],
 "metadata": {
  "kernelspec": {
   "display_name": "Python 3",
   "language": "python",
   "name": "python3"
  },
  "language_info": {
   "codemirror_mode": {
    "name": "ipython",
    "version": 3
   },
   "file_extension": ".py",
   "mimetype": "text/x-python",
   "name": "python",
   "nbconvert_exporter": "python",
   "pygments_lexer": "ipython3",
   "version": "3.7.3"
  }
 },
 "nbformat": 4,
 "nbformat_minor": 4
}
